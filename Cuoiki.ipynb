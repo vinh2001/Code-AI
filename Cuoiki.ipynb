{
  "cells": [
    {
      "cell_type": "markdown",
      "metadata": {
        "id": "view-in-github",
        "colab_type": "text"
      },
      "source": [
        "<a href=\"https://colab.research.google.com/github/vinh2001/Code-AI/blob/main/Cuoiki.ipynb\" target=\"_parent\"><img src=\"https://colab.research.google.com/assets/colab-badge.svg\" alt=\"Open In Colab\"/></a>"
      ]
    },
    {
      "cell_type": "code",
      "execution_count": null,
      "metadata": {
        "id": "LakpAA1feNOT"
      },
      "outputs": [],
      "source": [
        "from google.colab import drive\n",
        "drive.mount('/content/drive/')"
      ]
    },
    {
      "cell_type": "code",
      "execution_count": null,
      "metadata": {
        "id": "FUl1pp4S3-aS"
      },
      "outputs": [],
      "source": [
        "from tensorflow import keras\n",
        "from keras.models import Sequential, load_model\n",
        "from keras.layers import Activation, Dense, Flatten, Conv2D, MaxPool2D, Dropout\n",
        "from tensorflow.keras.optimizers import Adam\n",
        "from keras.metrics import categorical_crossentropy\n",
        "from keras.preprocessing.image import ImageDataGenerator, load_img, img_to_array\n",
        "\n",
        "import matplotlib.pyplot as plt\n",
        "import numpy as np"
      ]
    },
    {
      "cell_type": "code",
      "source": [
        "x_train = train_path = '/content/drive/MyDrive/DataKoi/Train/'\n",
        "x_test = test_path = '/content/drive/MyDrive/DataKoi/Test/'"
      ],
      "metadata": {
        "id": "ttMER8xr5O6s"
      },
      "execution_count": null,
      "outputs": []
    },
    {
      "cell_type": "code",
      "source": [
        "x_train = x_test = ImageDataGenerator(rescale=1/255)\n",
        "\n",
        "train_batches = x_train.flow_from_directory( train_path, target_size=(224, 224),\n",
        "                                               batch_size=10, class_mode='categorical')\n",
        "\n",
        "test_batches = x_test.flow_from_directory(test_path, target_size=(224, 224),\n",
        "                                                batch_size=10, class_mode='categorical')"
      ],
      "metadata": {
        "id": "rL9h2dcu52vX"
      },
      "execution_count": null,
      "outputs": []
    },
    {
      "cell_type": "code",
      "source": [
        "imgs, labels = next(test_batches)\n",
        "fig, axes = plt.subplots(1, 10, figsize=(20,20))\n",
        "axes = axes.flatten()\n",
        "\n",
        "for i, ax in zip( imgs, axes):\n",
        "  ax.imshow(i)\n",
        "plt.tight_layout()\n",
        "plt.show()"
      ],
      "metadata": {
        "id": "uEcOTXWx6ST_"
      },
      "execution_count": null,
      "outputs": []
    },
    {
      "cell_type": "code",
      "source": [
        "model=Sequential([                  \n",
        "                  Conv2D(32, (3,3), activation='relu', padding = 'same', input_shape=(224,224,3)),\n",
        "                  MaxPool2D(pool_size=(2,2)),\n",
        "\n",
        "                  Conv2D(64, (3,3), activation='relu', padding = 'same'),\n",
        "                  MaxPool2D(pool_size=(2, 2)),\n",
        "\n",
        "                  Conv2D(128, (3,3), activation='relu', padding = 'same'),\n",
        "                  MaxPool2D(pool_size=(2, 2)),\n",
        "                  Dropout(0.2),\n",
        "\n",
        "                  Conv2D(128, (3,3), activation='relu', padding = 'same'),\n",
        "                  Flatten(), Dropout(0.5),\n",
        "                  Dense(units=18, activation='softmax') ])\n",
        "model.summary()"
      ],
      "metadata": {
        "id": "cWXCJcLx6d0h"
      },
      "execution_count": null,
      "outputs": []
    },
    {
      "cell_type": "code",
      "source": [
        "model.compile(optimizer = Adam(learning_rate=0.0005),\n",
        "              loss='categorical_crossentropy', metrics=['accuracy'])\n",
        "\n",
        "history = model.fit(x=train_batches, steps_per_epoch=len(train_batches), \n",
        "                    validation_data=test_batches, epochs=100, verbose=1)"
      ],
      "metadata": {
        "id": "_BSNaZ7M7DkT"
      },
      "execution_count": null,
      "outputs": []
    },
    {
      "cell_type": "code",
      "source": [
        " model.save('/content/drive/MyDrive/DataKoi/dataKoi.h5')\n",
        " "
      ],
      "metadata": {
        "id": "OAtEYdwC7LuP"
      },
      "execution_count": null,
      "outputs": []
    },
    {
      "cell_type": "code",
      "source": [
        "classify = load_model('/content/drive/MyDrive/DataKoi/dataKoi.h5')\n",
        "dic = train_batches.class_indices\n",
        "dic"
      ],
      "metadata": {
        "id": "ylB9VJGCA0vl"
      },
      "execution_count": null,
      "outputs": []
    },
    {
      "cell_type": "code",
      "source": [
        "sample = load_img('/content/drive/MyDrive/DataKoi/image/kawarimonokoi.jpg', target_size =(224,224))\n",
        "plt.imshow(sample)\n",
        "sample = img_to_array(sample)\n",
        "sample = sample.reshape(1,224,224,3)\n",
        "sample = sample.astype('float32')\n",
        "sample = sample/255\n",
        "\n",
        "result = np.argmax(classify.predict(sample),axis= 1)\n",
        "key = [k for k, v in dic.items() if v == result]\n",
        "print('Koi Classification Result:', key)"
      ],
      "metadata": {
        "id": "RThwEs2kA3Zf"
      },
      "execution_count": null,
      "outputs": []
    },
    {
      "cell_type": "code",
      "source": [
        "plt.plot(history.history['accuracy'])\n",
        "plt.plot(history.history['val_accuracy'])\n",
        "plt.title('model accuracy')\n",
        "plt.ylabel('accuracy')\n",
        "plt.xlabel('epoch')\n",
        "plt.legend(['train','test'],loc='upper_left')"
      ],
      "metadata": {
        "id": "Cxlq2qZDBopc"
      },
      "execution_count": null,
      "outputs": []
    },
    {
      "cell_type": "code",
      "source": [
        ""
      ],
      "metadata": {
        "id": "sTpu1eR7LQQQ"
      },
      "execution_count": null,
      "outputs": []
    }
  ],
  "metadata": {
    "colab": {
      "name": "Cuoiki.ipynb",
      "private_outputs": true,
      "provenance": [],
      "authorship_tag": "ABX9TyOf4NGOaeCzryh3eIhY2umY",
      "include_colab_link": true
    },
    "kernelspec": {
      "display_name": "Python 3",
      "name": "python3"
    },
    "language_info": {
      "name": "python"
    },
    "accelerator": "GPU",
    "gpuClass": "standard"
  },
  "nbformat": 4,
  "nbformat_minor": 0
}